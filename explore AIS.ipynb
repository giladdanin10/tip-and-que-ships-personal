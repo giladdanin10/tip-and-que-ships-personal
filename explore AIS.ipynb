{
 "cells": [
  {
   "cell_type": "markdown",
   "metadata": {},
   "source": [
    "# imports"
   ]
  },
  {
   "cell_type": "code",
   "execution_count": 1,
   "metadata": {},
   "outputs": [],
   "source": [
    "from datetime import datetime\n",
    "import pandas as pd\n",
    "import matplotlib.pyplot as plt\n",
    "import geopandas as gpd\n",
    "from shapely.geometry import Point\n",
    "import copy\n",
    "import numpy as np\n",
    "import os\n",
    "from display_aux import *\n",
    "from vessels import VESSELES\n",
    "from df_aux import *\n"
   ]
  },
  {
   "cell_type": "code",
   "execution_count": 2,
   "metadata": {},
   "outputs": [],
   "source": [
    "# Set display options to show all rows and columns\n",
    "pd.set_option('display.max_rows', 10)\n",
    "pd.set_option('display.max_columns', None)\n"
   ]
  },
  {
   "cell_type": "markdown",
   "metadata": {},
   "source": [
    "# Run definitions"
   ]
  },
  {
   "cell_type": "code",
   "execution_count": 3,
   "metadata": {},
   "outputs": [],
   "source": [
    "\n",
    "params = {}\n",
    "# params['input_csv_file_name_full'] = 'C:\\\\gilad\\\\work\\\\tip_and_que\\\\data\\\\AIS\\\\TipandCue_DataSample_CSV\\\\exactEarth_historical_data_02_2023.csv'\n",
    "params['input_csv_file_name_full'] = 'debug_data_base.csv'\n",
    "\n",
    "params['min_date'] = None\n",
    "params['max_date'] = None\n",
    "params['columns_list_keep'] = ['Time','MMSI','IMO','Vessel_Name','Ship_Type','Longitude','Latitude','Message_ID','Accuracy','Heading','COG','Fixing_device','Destination_ID','offset1','Offset_2','Offset_3','Offset_4','ATON_type','ATON_name','GNSS_status']\n",
    "params['filter_vessels_df_dic'] = {\n",
    "          'max_time_diff[mins]':['<=',30]\n",
    "          }\n",
    "params['reload'] = False\n",
    "params['export_to_excel'] = False\n"
   ]
  },
  {
   "cell_type": "markdown",
   "metadata": {},
   "source": [
    "# Functions"
   ]
  },
  {
   "cell_type": "markdown",
   "metadata": {},
   "source": [
    "## df aux functions"
   ]
  },
  {
   "cell_type": "markdown",
   "metadata": {},
   "source": [
    "## Plot Functions"
   ]
  },
  {
   "cell_type": "code",
   "execution_count": 5,
   "metadata": {},
   "outputs": [],
   "source": [
    "import matplotlib.pyplot as plt\n",
    "import pandas as pd\n",
    "from matplotlib.ticker import MaxNLocator\n",
    "def plot_df_column_vs_time(df,column_name,time_column_name='Time'):\n",
    "\n",
    "    # Sample data\n",
    "    dates = df[time_column_name].dt.strftime('%Y-%m-%d %H:%M:%S').to_list()\n",
    "    values = df[column_name]\n",
    "\n",
    "    # Create a figure with a larger size\n",
    "    plt.figure(figsize=(7, 4))\n",
    "\n",
    "    # Create a line plot\n",
    "    plt.plot(dates, values)\n",
    "\n",
    "    # Rotate x-tick labels by 45 degrees and change their font size\n",
    "    plt.xticks(rotation=45, fontsize=12, ha='right')\n",
    "\n",
    "\n",
    "    # Use MaxNLocator to reduce the number of ticks\n",
    "    ax = plt.gca()\n",
    "    ax.xaxis.set_major_locator(MaxNLocator(nbins=5))  # Adjust the number of bins as needed\n",
    "\n",
    "    # Add labels and title\n",
    "    plt.xlabel('Date and Time')\n",
    "    plt.ylabel('Values')\n",
    "    plt.title('Plot with Rotated and Formatted x-tick Labels')\n",
    "\n",
    "    # Add grid\n",
    "    plt.grid(True)\n",
    "\n",
    "    # Adjust layout to prevent clipping of tick-labels\n",
    "    plt.tight_layout()\n",
    "\n",
    "    # Optionally adjust the subplots manually\n",
    "    plt.subplots_adjust(bottom=0.2)\n",
    "\n",
    "    # Show the plot\n",
    "    plt.show()\n",
    "\n"
   ]
  },
  {
   "cell_type": "code",
   "execution_count": 9,
   "metadata": {},
   "outputs": [],
   "source": [
    "# Create an instance of the VESSELES class\n",
    "vessels = VESSELES()\n"
   ]
  },
  {
   "cell_type": "markdown",
   "metadata": {},
   "source": [
    "# Read the file"
   ]
  },
  {
   "cell_type": "code",
   "execution_count": 10,
   "metadata": {},
   "outputs": [
    {
     "name": "stdout",
     "output_type": "stream",
     "text": [
      "Loading DataFrame from debug_data_base.pkl\n",
      "df has 309420 lines./ncolumns are:['Time', 'MMSI', 'IMO', 'Vessel_Name', 'Ship_Type', 'Longitude', 'Latitude', 'Message_ID', 'Accuracy', 'Heading', 'COG', 'Fixing_device', 'Destination_ID', 'offset1', 'Offset_2', 'Offset_3', 'Offset_4', 'ATON_type', 'ATON_name', 'GNSS_status']\n"
     ]
    }
   ],
   "source": [
    "df = vessels.load_data(params['input_csv_file_name_full'],columns_list_keep=params['columns_list_keep'],reload=params['reload'])\n"
   ]
  },
  {
   "cell_type": "markdown",
   "metadata": {},
   "source": [
    "## create debug data set"
   ]
  },
  {
   "cell_type": "code",
   "execution_count": 11,
   "metadata": {},
   "outputs": [],
   "source": [
    "# get_min_max_dates(df)\n",
    "# filter_dic = {'Time':['between',('2023-02-01 00:00:01','2023-02-01 12:00:01')]}\n",
    "\n",
    "# df_filt = filter_df(df,filter_dic)\n",
    "\n",
    "\n",
    "# get_min_max_dates(df_filt)\n",
    "# print(df_filt.shape)\n",
    "# df_aux.export_df(df_filt,'debug_data_base.csv') \n",
    "# df1 = vessels.load_data('debug_data_base.csv',columns_list_keep=params['columns_list_keep'],reload=True)\n"
   ]
  },
  {
   "cell_type": "markdown",
   "metadata": {},
   "source": [
    "# Export to exell"
   ]
  },
  {
   "cell_type": "code",
   "execution_count": 12,
   "metadata": {},
   "outputs": [],
   "source": [
    "if (params['export_to_excel']):\n",
    "    df_aux.export_df(df, os.path.basename(params['input_csv_file_name_full'].replace('csv','xlsx')),num_lines=10000)\n"
   ]
  },
  {
   "cell_type": "markdown",
   "metadata": {},
   "source": [
    "# create data_dic and info_df"
   ]
  },
  {
   "cell_type": "code",
   "execution_count": 13,
   "metadata": {},
   "outputs": [
    {
     "name": "stdout",
     "output_type": "stream",
     "text": [
      "creating data_dic\n",
      "create info_df\n",
      "processing MMSI 0 out of 100\n",
      "total number of MMSI:100\n",
      "28 MMSI's passed\n",
      "72 MMSI's failed\n"
     ]
    }
   ],
   "source": [
    "vesseles_data_dic = vessels.create_data_dic(df)        \n",
    "vessels_info_df,prob_MMSI = vessels.create_info_df(num_lines=100)\n",
    "# vessels.get_info_df_summary()\n"
   ]
  },
  {
   "cell_type": "markdown",
   "metadata": {},
   "source": [
    "# get a vessel data"
   ]
  },
  {
   "cell_type": "code",
   "execution_count": 14,
   "metadata": {},
   "outputs": [
    {
     "data": {
      "text/plain": [
       "(121, 20)"
      ]
     },
     "execution_count": 14,
     "metadata": {},
     "output_type": "execute_result"
    }
   ],
   "source": [
    "# vessel_data = get_vessel_data(vessels.data_dic,422)\n",
    "vessel_data = vessels.get_vessel_data(vessels_info_df.index[2])\n",
    "vessel_data.shape\n"
   ]
  },
  {
   "cell_type": "markdown",
   "metadata": {},
   "source": [
    "## filtering the vessles Df"
   ]
  },
  {
   "cell_type": "code",
   "execution_count": 15,
   "metadata": {},
   "outputs": [],
   "source": [
    "filter_dic = {\n",
    "        'len':['between',(700,800)],\n",
    "        'min_Longitude': ('between', (40.0, 50.0)),        \n",
    "      #   'mean_time_diff[mins]':['==',13],\n",
    "        'min_time':['between',('2023-02-01 00:00:00','2023-02-01 00:01:39')]\n",
    "              }\n",
    "\n",
    "filter_dic = {\n",
    "          'max_time_diff[mins]':['<=',30]\n",
    "          }\n",
    "\n",
    "vessels_df_filt = filter_df(vessels.info_df, filter_dic)\n"
   ]
  },
  {
   "cell_type": "markdown",
   "metadata": {},
   "source": [
    "# Save the vessel_data to a jason file\n",
    "\n",
    " "
   ]
  },
  {
   "cell_type": "code",
   "execution_count": 16,
   "metadata": {},
   "outputs": [],
   "source": [
    "vessel_data_jason_file_path = '.\\\\data'"
   ]
  },
  {
   "cell_type": "code",
   "execution_count": 17,
   "metadata": {},
   "outputs": [
    {
     "ename": "NameError",
     "evalue": "name 'save_vessels_data_to_geojson' is not defined",
     "output_type": "error",
     "traceback": [
      "\u001b[1;31m---------------------------------------------------------------------------\u001b[0m",
      "\u001b[1;31mNameError\u001b[0m                                 Traceback (most recent call last)",
      "Cell \u001b[1;32mIn[17], line 1\u001b[0m\n\u001b[1;32m----> 1\u001b[0m save_vessels_data_to_geojson(vessels_df_filt,vessel_data_dic,vessel_data_jason_file_path)\n",
      "\u001b[1;31mNameError\u001b[0m: name 'save_vessels_data_to_geojson' is not defined"
     ]
    }
   ],
   "source": [
    "\n",
    "save_vessels_data_to_geojson(vessels_df_filt,vessel_data_dic,vessel_data_jason_file_path)\n",
    "\n"
   ]
  },
  {
   "cell_type": "markdown",
   "metadata": {},
   "source": [
    "## plot some statistis"
   ]
  },
  {
   "cell_type": "code",
   "execution_count": null,
   "metadata": {},
   "outputs": [
    {
     "ename": "NameError",
     "evalue": "name 'vessels_df' is not defined",
     "output_type": "error",
     "traceback": [
      "\u001b[1;31m---------------------------------------------------------------------------\u001b[0m",
      "\u001b[1;31mNameError\u001b[0m                                 Traceback (most recent call last)",
      "Cell \u001b[1;32mIn[21], line 44\u001b[0m\n\u001b[0;32m     39\u001b[0m     plt\u001b[38;5;241m.\u001b[39mshow()\n\u001b[0;32m     42\u001b[0m columns_to_plot \u001b[38;5;241m=\u001b[39m [\u001b[38;5;124m'\u001b[39m\u001b[38;5;124mfield1\u001b[39m\u001b[38;5;124m'\u001b[39m, \u001b[38;5;124m'\u001b[39m\u001b[38;5;124mfield2\u001b[39m\u001b[38;5;124m'\u001b[39m, \u001b[38;5;124m'\u001b[39m\u001b[38;5;124mfield3\u001b[39m\u001b[38;5;124m'\u001b[39m]\n\u001b[1;32m---> 44\u001b[0m plot_vessels_df_statistics(vessels_df, [\u001b[38;5;124m'\u001b[39m\u001b[38;5;124mlen\u001b[39m\u001b[38;5;124m'\u001b[39m,\u001b[38;5;124m'\u001b[39m\u001b[38;5;124mmin_time_diff[mins]\u001b[39m\u001b[38;5;124m'\u001b[39m], bins\u001b[38;5;241m=\u001b[39m\u001b[38;5;241m100\u001b[39m)\n",
      "\u001b[1;31mNameError\u001b[0m: name 'vessels_df' is not defined"
     ]
    }
   ],
   "source": [
    "import pandas as pd\n",
    "import matplotlib.pyplot as plt\n",
    "\n",
    "def plot_vessels_df_statistics(df, columns, bins=10):\n",
    "    \"\"\"\n",
    "    Plots histograms of specified columns in a DataFrame as subplots.\n",
    "\n",
    "    df (pd.DataFrame): The DataFrame containing the data.\n",
    "    Parameters:\n",
    "    columns (list): List of column names to plot.\n",
    "    bins (int): Number of bins for the histograms.\n",
    "    \"\"\"\n",
    "    num_columns = len(columns)\n",
    "    num_rows = (num_columns + 1) // 2  # Calculate number of rows needed for subplots\n",
    "\n",
    "    fig, axes = plt.subplots(num_rows, 2, figsize=(12, num_rows * 4))\n",
    "    axes = axes.flatten()  # Flatten the axes array to easily iterate over it\n",
    "\n",
    "    for i, column in enumerate(columns):\n",
    "        try:\n",
    "            if column in df.columns:\n",
    "                axes[i].hist(df[column], bins=bins, edgecolor='black')\n",
    "                axes[i].set_title(f'Histogram of {column}')\n",
    "                axes[i].set_xlabel(column)\n",
    "                axes[i].set_ylabel('Frequency')\n",
    "            else:\n",
    "                axes[i].text(0.5, 0.5, f'Column {column} not found', ha='center', va='center')\n",
    "                axes[i].set_title(f'Histogram of {column}')\n",
    "                axes[i].set_xlabel(column)\n",
    "                axes[i].set_ylabel('Frequency')\n",
    "        except:\n",
    "            print(f'could not plot {column}')\n",
    "            \n",
    "    # Remove any unused subplots\n",
    "    for j in range(i + 1, len(axes)):\n",
    "        fig.delaxes(axes[j])\n",
    "\n",
    "    plt.tight_layout()\n",
    "    plt.show()\n",
    "    \n",
    "\n",
    "columns_to_plot = ['field1', 'field2', 'field3']\n",
    "\n",
    "plot_vessels_df_statistics(vessels_df, ['len','min_time_diff[mins]'], bins=100)\n"
   ]
  },
  {
   "cell_type": "markdown",
   "metadata": {},
   "source": [
    "# Save the vessel_data to a jason file\n",
    "\n",
    " "
   ]
  },
  {
   "cell_type": "code",
   "execution_count": null,
   "metadata": {},
   "outputs": [],
   "source": [
    "vessel_data_jason_file_path = '.\\\\data'"
   ]
  },
  {
   "cell_type": "code",
   "execution_count": null,
   "metadata": {},
   "outputs": [],
   "source": [
    "\n",
    "save_vessels_data_to_geojson(vessels_df_filt,vessel_data_dic,vessel_data_jason_file_path)\n",
    "\n"
   ]
  },
  {
   "cell_type": "markdown",
   "metadata": {},
   "source": [
    "# plots of vessel data"
   ]
  },
  {
   "cell_type": "code",
   "execution_count": null,
   "metadata": {},
   "outputs": [],
   "source": [
    "\n",
    "vessel_data = get_vessel_data(vessel_data_dic,MMSI)\n",
    "plot_df_column_vs_time(vessel_data,column_name='Longitude')\n"
   ]
  },
  {
   "cell_type": "code",
   "execution_count": null,
   "metadata": {},
   "outputs": [],
   "source": [
    "grouped = df.groupby('MMSI')\n",
    "\n",
    "# Create a dictionary to store each vessel's data\n",
    "vessel_data_dic = {vessel_MMSI: group for vessel_MMSI, group in grouped}\n"
   ]
  }
 ],
 "metadata": {
  "kernelspec": {
   "display_name": "Python 3",
   "language": "python",
   "name": "python3"
  },
  "language_info": {
   "codemirror_mode": {
    "name": "ipython",
    "version": 3
   },
   "file_extension": ".py",
   "mimetype": "text/x-python",
   "name": "python",
   "nbconvert_exporter": "python",
   "pygments_lexer": "ipython3",
   "version": "3.11.7"
  }
 },
 "nbformat": 4,
 "nbformat_minor": 2
}
