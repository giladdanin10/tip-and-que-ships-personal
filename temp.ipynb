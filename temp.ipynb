{
 "cells": [
  {
   "cell_type": "code",
   "execution_count": 4,
   "metadata": {},
   "outputs": [],
   "source": [
    "def save_var(var, file_name, var_name='var'):\n",
    "    print(f'save {var_name} to {file_name}')\n",
    "    try:\n",
    "        with open(file_name, 'wb') as file:\n",
    "            pickle.dump(var, file)\n",
    "        return True\n",
    "    except Exception as e:\n",
    "        print(f'could not save {var_name} to {file_name}. Error: {e}')\n",
    "        return False\n",
    "\n",
    "def load_var(file_name, var_name='var'):\n",
    "    print(f'load {var_name} from {file_name}')\n",
    "    try:\n",
    "        with open(file_name, 'rb') as file:\n",
    "            var = pickle.load(file)\n",
    "        return var\n",
    "    except Exception as e:\n",
    "        print(f'could not load {var_name} from {file_name}. Error: {e}')\n",
    "        return None\n"
   ]
  },
  {
   "cell_type": "code",
   "execution_count": 6,
   "metadata": {},
   "outputs": [
    {
     "name": "stdout",
     "output_type": "stream",
     "text": [
      "save1 var to my_dict.pkl\n",
      "load var from my_dict.pkl\n"
     ]
    },
    {
     "ename": "TypeError",
     "evalue": "file must have 'read' and 'readline' attributes",
     "output_type": "error",
     "traceback": [
      "\u001b[1;31m---------------------------------------------------------------------------\u001b[0m",
      "\u001b[1;31mTypeError\u001b[0m                                 Traceback (most recent call last)",
      "Cell \u001b[1;32mIn[6], line 9\u001b[0m\n\u001b[0;32m      5\u001b[0m file_path \u001b[38;5;241m=\u001b[39m \u001b[38;5;124m'\u001b[39m\u001b[38;5;124mmy_dict.pkl\u001b[39m\u001b[38;5;124m'\u001b[39m\n\u001b[0;32m      8\u001b[0m save_var(my_dict,file_path)\n\u001b[1;32m----> 9\u001b[0m my_dict \u001b[38;5;241m=\u001b[39m load_var(file_path)\n",
      "Cell \u001b[1;32mIn[4], line 9\u001b[0m, in \u001b[0;36mload_var\u001b[1;34m(file_name, var_name)\u001b[0m\n\u001b[0;32m      7\u001b[0m \u001b[38;5;28mprint\u001b[39m(\u001b[38;5;124mf\u001b[39m\u001b[38;5;124m'\u001b[39m\u001b[38;5;124mload \u001b[39m\u001b[38;5;132;01m{\u001b[39;00mvar_name\u001b[38;5;132;01m}\u001b[39;00m\u001b[38;5;124m from \u001b[39m\u001b[38;5;132;01m{\u001b[39;00mfile_name\u001b[38;5;132;01m}\u001b[39;00m\u001b[38;5;124m'\u001b[39m)\n\u001b[0;32m      8\u001b[0m \u001b[38;5;28;01mwith\u001b[39;00m \u001b[38;5;28mopen\u001b[39m(file_name, \u001b[38;5;124m'\u001b[39m\u001b[38;5;124mrb\u001b[39m\u001b[38;5;124m'\u001b[39m) \u001b[38;5;28;01mas\u001b[39;00m file:\n\u001b[1;32m----> 9\u001b[0m     var \u001b[38;5;241m=\u001b[39m pickle\u001b[38;5;241m.\u001b[39mload(file_name)\n\u001b[0;32m     10\u001b[0m \u001b[38;5;28;01mreturn\u001b[39;00m var\n",
      "\u001b[1;31mTypeError\u001b[0m: file must have 'read' and 'readline' attributes"
     ]
    }
   ],
   "source": [
    "import pickle\n",
    "\n",
    "# Sample dictionary\n",
    "my_dict = {'Vessel_Name': 'NEJOUM', 'Latitude': 35.1, 'Time': '2023-02-01 00:15:17'}\n",
    "file_path = 'my_dict.pkl'\n",
    "\n",
    "\n",
    "save_var(my_dict,file_path)\n",
    "my_dict = load_var(file_path)\n",
    "# Save the dictionary to a file\n",
    "# with open(file_path, 'wb') as file:\n",
    "#     pickle.dump(my_dict, file)\n",
    "# print(f\"The dictionary has been saved to {file_path}.\")\n"
   ]
  },
  {
   "cell_type": "code",
   "execution_count": 2,
   "metadata": {},
   "outputs": [
    {
     "name": "stdout",
     "output_type": "stream",
     "text": [
      "The dictionary has been loaded: {'Vessel_Name': 'NEJOUM', 'Latitude': 35.1, 'Time': '2023-02-01 00:15:17'}\n"
     ]
    }
   ],
   "source": [
    "import pickle\n",
    "import os\n",
    "\n",
    "file_path = 'my_dict.pkl'\n",
    "\n",
    "# Check if the file exists\n",
    "if os.path.exists(file_path):\n",
    "    # Load the dictionary from the file\n",
    "    with open(file_path, 'rb') as file:\n",
    "        loaded_dict = pickle.load(file)\n",
    "    print(\"The dictionary has been loaded:\", loaded_dict)\n",
    "else:\n",
    "    print(f\"The file {file_path} does not exist.\")\n"
   ]
  }
 ],
 "metadata": {
  "kernelspec": {
   "display_name": "base",
   "language": "python",
   "name": "python3"
  },
  "language_info": {
   "codemirror_mode": {
    "name": "ipython",
    "version": 3
   },
   "file_extension": ".py",
   "mimetype": "text/x-python",
   "name": "python",
   "nbconvert_exporter": "python",
   "pygments_lexer": "ipython3",
   "version": "3.11.7"
  }
 },
 "nbformat": 4,
 "nbformat_minor": 2
}
