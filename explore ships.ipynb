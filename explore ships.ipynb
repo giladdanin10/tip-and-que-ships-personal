{
 "cells": [
  {
   "cell_type": "markdown",
   "metadata": {},
   "source": [
    "# imports"
   ]
  },
  {
   "cell_type": "code",
   "execution_count": 1,
   "metadata": {},
   "outputs": [],
   "source": [
    "from datetime import datetime\n",
    "import pandas as pd\n",
    "import matplotlib.pyplot as plt\n",
    "import geopandas as gpd\n",
    "from shapely.geometry import Point\n",
    "import copy\n",
    "import numpy as np\n",
    "import os\n",
    "from display_aux import *\n",
    "from ships import SHIPS\n",
    "from df_aux import *\n",
    "from time_aux import *\n",
    "from file_aux import *\n",
    "from plot_aux import *\n",
    "from parse_aux import *\n",
    "import sys"
   ]
  },
  {
   "cell_type": "markdown",
   "metadata": {},
   "source": []
  },
  {
   "cell_type": "code",
   "execution_count": 2,
   "metadata": {},
   "outputs": [],
   "source": [
    "%matplotlib ipympl"
   ]
  },
  {
   "cell_type": "code",
   "execution_count": 3,
   "metadata": {},
   "outputs": [],
   "source": [
    "pd.set_option('display.max_rows', 10)\n",
    "pd.set_option('display.max_columns', None)\n"
   ]
  },
  {
   "cell_type": "markdown",
   "metadata": {},
   "source": [
    "# Run definitions"
   ]
  },
  {
   "cell_type": "code",
   "execution_count": null,
   "metadata": {},
   "outputs": [],
   "source": []
  },
  {
   "cell_type": "code",
   "execution_count": 4,
   "metadata": {},
   "outputs": [],
   "source": [
    "params = {}\n",
    "params['input_csv_file_name_full'] = 'C:\\\\gilad\\\\work\\\\tip_and_que\\\\data\\\\AIS\\\\Combined\\\\Spire_AIS_Combined_All_20231101_1106_000000000000.csv'\n",
    "# params['input_csv_file_name_full'] = 'debug_data_base.csv'\n",
    "\n",
    "params['columns_list_keep'] = None\n",
    "params['filter_vessels_df_dic'] = {\n",
    "        'max_time_diff[mins]':['<=',30]\n",
    "        }\n",
    "params['reload_level'] = 3\n",
    "params['reload_df_filt'] = False\n",
    "params['reload_vessels'] = True\n",
    "params['save_folder_base'] = './pkl'\n",
    "\n",
    "params['export_to_excel'] = False\n",
    "params['ana_vessel_name'] = 'EYVAN'\n",
    "params['ana_vessel_name'] = 'PENG FENG JI'\n",
    "\n",
    "# params['df_filter_dic'] = {'position_timestamp':['<=','2023-11-01 02:00:00+0000']}\n",
    "params['df_filter_dic'] = {}"
   ]
  },
  {
   "cell_type": "markdown",
   "metadata": {},
   "source": [
    "# Load"
   ]
  },
  {
   "cell_type": "code",
   "execution_count": 5,
   "metadata": {},
   "outputs": [],
   "source": [
    "save_folder = params['save_folder_base']+'/'+ get_file_base_name(params['input_csv_file_name_full'])\n",
    "\n",
    "ships = SHIPS(save_folder=save_folder)\n"
   ]
  },
  {
   "cell_type": "code",
   "execution_count": 6,
   "metadata": {},
   "outputs": [
    {
     "name": "stdout",
     "output_type": "stream",
     "text": [
      "load_row_data\n",
      "----------------\n",
      "prepare_df\n",
      "----------------\n",
      "load df from ./pkl/Spire_AIS_Combined_All_20231101_1106_000000000000/df_filt.pkl\n",
      "create_data_dic\n",
      "----------------\n"
     ]
    }
   ],
   "source": [
    "df = ships.load_raw_data(params['input_csv_file_name_full'],reload_level=params['reload_level'],save_folder=save_folder)\n",
    "\n",
    "# filter_df\n",
    "df = ships.prepare_df(df,reload_level=params['reload_level'],df_filter_dic=params['df_filter_dic'],save_folder=save_folder,columns_list_keep=params['columns_list_keep'])\n",
    "\n",
    "data_dic = ships.create_data_dic(df,reload_level=params['reload_level'],save_folder=save_folder)\n"
   ]
  },
  {
   "cell_type": "code",
   "execution_count": 7,
   "metadata": {},
   "outputs": [
    {
     "data": {
      "text/plain": [
       "Timestamp('2023-11-01 00:00:00+0000', tz='UTC')"
      ]
     },
     "metadata": {},
     "output_type": "display_data"
    },
    {
     "data": {
      "text/plain": [
       "Timestamp('2023-11-01 01:27:53+0000', tz='UTC')"
      ]
     },
     "metadata": {},
     "output_type": "display_data"
    }
   ],
   "source": [
    "display(df.time.min())\n",
    "display(df.time.max())"
   ]
  },
  {
   "cell_type": "code",
   "execution_count": 8,
   "metadata": {},
   "outputs": [
    {
     "name": "stdout",
     "output_type": "stream",
     "text": [
      "Number of common time chunks found: 29\n"
     ]
    },
    {
     "data": {
      "application/vnd.jupyter.widget-view+json": {
       "model_id": "c07a0bc54e0847fe8fc4d730ce3b1966",
       "version_major": 2,
       "version_minor": 0
      },
      "image/png": "[encoded data removed]",
      "text/html": [
       "\n",
       "            <div style=\"display: inline-block;\">\n",
       "                <div class=\"jupyter-widgets widget-label\" style=\"text-align: center;\">\n",
       "                    Figure\n",
       "                </div>\n",
       "                <img src='data:image/png;base64,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' width=300.0/>\n",
       "            </div>\n",
       "        "
      ],
      "text/plain": [
       "Canvas(toolbar=Toolbar(toolitems=[('Home', 'Reset original view', 'home', 'home'), ('Back', 'Back to previous …"
      ]
     },
     "metadata": {},
     "output_type": "display_data"
    }
   ],
   "source": [
    "from scipy.signal import find_peaks\n",
    "\n",
    "\n",
    "ship_df = ships.get_ship_df('ABCC',item_type='name',handle_common_time_rows=True)\n",
    "ship_df.loc[:,'time_seconds']=ship_df.loc[:,'time_seconds']-ship_df.loc[:,'time_seconds'].min()\n",
    "\n",
    "ship_df.head()\n",
    "# display([ship_df['time_seconds']])\n",
    "ships.plot_ship_data(df,'ABCC',pre_process='remove_bias')\n",
    "\n",
    "# ship_df = normalize_columns(ship_df,columns=['latitude'],method='min-max')\n",
    "\n",
    "\n",
    "# x = np.array(ship_df['latitude'])[1:]\n",
    "# peak_points = find_peaks(x,distance=3)[0]\n",
    "# plot (x,marker_points=peak_points,line_style='-',marker_style='x',marker_points_style='o')\n"
   ]
  },
  {
   "cell_type": "code",
   "execution_count": 9,
   "metadata": {},
   "outputs": [
    {
     "name": "stdout",
     "output_type": "stream",
     "text": [
      "create info_df\n",
      "----------------\n",
      "processing name 0 out of 10\n",
      "Number of common time chunks found: 352\n",
      "Number of common time chunks found: 0\n",
      "Number of common time chunks found: 0\n",
      "Number of common time chunks found: 0\n",
      "Number of common time chunks found: 4\n",
      "Number of common time chunks found: 1\n",
      "Number of common time chunks found: 5\n",
      "Number of common time chunks found: 0\n",
      "Number of common time chunks found: 9\n",
      "Number of common time chunks found: 0\n",
      "save var to ./pkl/Spire_AIS_Combined_All_20231101_1106_000000000000/info_df.pkl\n",
      "11\n",
      "15\n",
      "                      processed                  name    len  \\\n",
      "                           True                        172.0   \n",
      ") KSV7H 255                True           ) KSV7H 255    1.0   \n",
      "!!32001-384%               True          !!32001-384%    1.0   \n",
      "*7904068-4@@@@@@@@@@       True  *7904068-4@@@@@@@@@@   19.0   \n",
      "**ALI1**                   True              **ALI1**    1.0   \n",
      "*). 9)168-0180%            True       *). 9)168-0180%    1.0   \n",
      "ABCC                       True                   NaN    NaN   \n",
      "#####@@@@@@@@@@@@@@@       True  #####@@@@@@@@@@@@@@@    4.0   \n",
      "\"TM DHDL@A&       \"        True   \"TM DHDL@A&       \"    1.0   \n",
      "!N33@@@@@@@@@@@@@@@@       True  !N33@@@@@@@@@@@@@@@@    1.0   \n",
      "\n",
      "                                      min_time                  max_time  \\\n",
      "                     2023-11-01 00:00:14+00:00 2023-11-01 01:27:22+00:00   \n",
      ") KSV7H 255                                NaT                       NaT   \n",
      "!!32001-384%                               NaT                       NaT   \n",
      "*7904068-4@@@@@@@@@@ 2023-11-01 00:01:22+00:00 2023-11-01 01:17:47+00:00   \n",
      "**ALI1**                                   NaT                       NaT   \n",
      "*). 9)168-0180%                            NaT                       NaT   \n",
      "ABCC                                       NaT                       NaT   \n",
      "#####@@@@@@@@@@@@@@@ 2023-11-01 00:27:23+00:00 2023-11-01 01:13:40+00:00   \n",
      "\"TM DHDL@A&       \"                        NaT                       NaT   \n",
      "!N33@@@@@@@@@@@@@@@@                       NaT                       NaT   \n",
      "\n",
      "                          total_time  min_time_diff[mins]  \\\n",
      "                     0 days 01:27:08                -74.0   \n",
      ") KSV7H 255                      NaT                  NaN   \n",
      "!!32001-384%                     NaT                  NaN   \n",
      "*7904068-4@@@@@@@@@@ 0 days 01:16:25                  0.0   \n",
      "**ALI1**                         NaT                  NaN   \n",
      "*). 9)168-0180%                  NaT                  NaN   \n",
      "ABCC                             NaT                  NaN   \n",
      "#####@@@@@@@@@@@@@@@ 0 days 00:46:17                 15.0   \n",
      "\"TM DHDL@A&       \"              NaT                  NaN   \n",
      "!N33@@@@@@@@@@@@@@@@             NaT                  NaN   \n",
      "\n",
      "                      max_time_diff[mins]  mean_time_diff[mins]  \\\n",
      "                                     60.0                   0.0   \n",
      ") KSV7H 255                           NaN                   NaN   \n",
      "!!32001-384%                          NaN                   NaN   \n",
      "*7904068-4@@@@@@@@@@                 13.0                   4.0   \n",
      "**ALI1**                              NaN                   NaN   \n",
      "*). 9)168-0180%                       NaN                   NaN   \n",
      "ABCC                                  NaN                   NaN   \n",
      "#####@@@@@@@@@@@@@@@                 16.0                  15.0   \n",
      "\"TM DHDL@A&       \"                   NaN                   NaN   \n",
      "!N33@@@@@@@@@@@@@@@@                  NaN                   NaN   \n",
      "\n",
      "                      min_longitude  max_longitude  min_latitude  \\\n",
      "                         117.894122     127.201627     25.141128   \n",
      ") KSV7H 255                     NaN            NaN           NaN   \n",
      "!!32001-384%                    NaN            NaN           NaN   \n",
      "*7904068-4@@@@@@@@@@     118.363880     118.366263     38.994328   \n",
      "**ALI1**                        NaN            NaN           NaN   \n",
      "*). 9)168-0180%                 NaN            NaN           NaN   \n",
      "ABCC                            NaN            NaN           NaN   \n",
      "#####@@@@@@@@@@@@@@@     120.085400     120.085550     40.091650   \n",
      "\"TM DHDL@A&       \"             NaN            NaN           NaN   \n",
      "!N33@@@@@@@@@@@@@@@@            NaN            NaN           NaN   \n",
      "\n",
      "                      max_latitude  span_longitude  span_latitude  \n",
      "                         40.640103        9.307505      15.498975  \n",
      ") KSV7H 255                    NaN             NaN            NaN  \n",
      "!!32001-384%                   NaN             NaN            NaN  \n",
      "*7904068-4@@@@@@@@@@     39.010787        0.002383       0.016458  \n",
      "**ALI1**                       NaN             NaN            NaN  \n",
      "*). 9)168-0180%                NaN             NaN            NaN  \n",
      "ABCC                           NaN             NaN            NaN  \n",
      "#####@@@@@@@@@@@@@@@     40.091800        0.000150       0.000150  \n",
      "\"TM DHDL@A&       \"            NaN             NaN            NaN  \n",
      "!N33@@@@@@@@@@@@@@@@           NaN             NaN            NaN  \n"
     ]
    }
   ],
   "source": [
    "# example\n",
    "info_df = ships.create_info_df(num_lines=1000,reload_level=0)\n",
    "print(len(ships.info_df[ships.info_df['processed']]))\n",
    "print(len(ships.info_df.columns))\n",
    "print(ships.info_df.head(10))\n"
   ]
  },
  {
   "cell_type": "code",
   "execution_count": 10,
   "metadata": {},
   "outputs": [
    {
     "name": "stdout",
     "output_type": "stream",
     "text": [
      "11\n",
      "15\n"
     ]
    }
   ],
   "source": [
    "print(len(ships.info_df[ships.info_df['processed']]))\n",
    "print(len(ships.info_df.columns))\n"
   ]
  },
  {
   "cell_type": "code",
   "execution_count": 11,
   "metadata": {},
   "outputs": [
    {
     "data": {
      "text/html": [
       "<div>\n",
       "<style scoped>\n",
       "    .dataframe tbody tr th:only-of-type {\n",
       "        vertical-align: middle;\n",
       "    }\n",
       "\n",
       "    .dataframe tbody tr th {\n",
       "        vertical-align: top;\n",
       "    }\n",
       "\n",
       "    .dataframe thead th {\n",
       "        text-align: right;\n",
       "    }\n",
       "</style>\n",
       "<table border=\"1\" class=\"dataframe\">\n",
       "  <thead>\n",
       "    <tr style=\"text-align: right;\">\n",
       "      <th></th>\n",
       "      <th>processed</th>\n",
       "    </tr>\n",
       "    <tr>\n",
       "      <th>index</th>\n",
       "      <th></th>\n",
       "    </tr>\n",
       "  </thead>\n",
       "  <tbody>\n",
       "    <tr>\n",
       "      <th>0</th>\n",
       "      <td>True</td>\n",
       "    </tr>\n",
       "    <tr>\n",
       "      <th>1</th>\n",
       "      <td>False</td>\n",
       "    </tr>\n",
       "    <tr>\n",
       "      <th>2</th>\n",
       "      <td>True</td>\n",
       "    </tr>\n",
       "    <tr>\n",
       "      <th>3</th>\n",
       "      <td>False</td>\n",
       "    </tr>\n",
       "    <tr>\n",
       "      <th>4</th>\n",
       "      <td>True</td>\n",
       "    </tr>\n",
       "    <tr>\n",
       "      <th>5</th>\n",
       "      <td>False</td>\n",
       "    </tr>\n",
       "    <tr>\n",
       "      <th>6</th>\n",
       "      <td>True</td>\n",
       "    </tr>\n",
       "    <tr>\n",
       "      <th>7</th>\n",
       "      <td>False</td>\n",
       "    </tr>\n",
       "    <tr>\n",
       "      <th>8</th>\n",
       "      <td>True</td>\n",
       "    </tr>\n",
       "    <tr>\n",
       "      <th>9</th>\n",
       "      <td>False</td>\n",
       "    </tr>\n",
       "  </tbody>\n",
       "</table>\n",
       "</div>"
      ],
      "text/plain": [
       "       processed\n",
       "index           \n",
       "0           True\n",
       "1          False\n",
       "2           True\n",
       "3          False\n",
       "4           True\n",
       "5          False\n",
       "6           True\n",
       "7          False\n",
       "8           True\n",
       "9          False"
      ]
     },
     "metadata": {},
     "output_type": "display_data"
    },
    {
     "data": {
      "text/html": [
       "<div>\n",
       "<style scoped>\n",
       "    .dataframe tbody tr th:only-of-type {\n",
       "        vertical-align: middle;\n",
       "    }\n",
       "\n",
       "    .dataframe tbody tr th {\n",
       "        vertical-align: top;\n",
       "    }\n",
       "\n",
       "    .dataframe thead th {\n",
       "        text-align: right;\n",
       "    }\n",
       "</style>\n",
       "<table border=\"1\" class=\"dataframe\">\n",
       "  <thead>\n",
       "    <tr style=\"text-align: right;\">\n",
       "      <th></th>\n",
       "      <th>processed</th>\n",
       "      <th>data</th>\n",
       "      <th>info</th>\n",
       "    </tr>\n",
       "    <tr>\n",
       "      <th>index</th>\n",
       "      <th></th>\n",
       "      <th></th>\n",
       "      <th></th>\n",
       "    </tr>\n",
       "  </thead>\n",
       "  <tbody>\n",
       "    <tr>\n",
       "      <th>0</th>\n",
       "      <td>True</td>\n",
       "      <td>10.0</td>\n",
       "      <td>A</td>\n",
       "    </tr>\n",
       "    <tr>\n",
       "      <th>1</th>\n",
       "      <td>False</td>\n",
       "      <td>20.0</td>\n",
       "      <td>B</td>\n",
       "    </tr>\n",
       "    <tr>\n",
       "      <th>2</th>\n",
       "      <td>True</td>\n",
       "      <td>30.0</td>\n",
       "      <td>C</td>\n",
       "    </tr>\n",
       "    <tr>\n",
       "      <th>3</th>\n",
       "      <td>False</td>\n",
       "      <td>40.0</td>\n",
       "      <td>D</td>\n",
       "    </tr>\n",
       "    <tr>\n",
       "      <th>4</th>\n",
       "      <td>True</td>\n",
       "      <td>50.0</td>\n",
       "      <td>E</td>\n",
       "    </tr>\n",
       "    <tr>\n",
       "      <th>5</th>\n",
       "      <td>False</td>\n",
       "      <td>NaN</td>\n",
       "      <td>NaN</td>\n",
       "    </tr>\n",
       "    <tr>\n",
       "      <th>6</th>\n",
       "      <td>True</td>\n",
       "      <td>NaN</td>\n",
       "      <td>NaN</td>\n",
       "    </tr>\n",
       "    <tr>\n",
       "      <th>7</th>\n",
       "      <td>False</td>\n",
       "      <td>NaN</td>\n",
       "      <td>NaN</td>\n",
       "    </tr>\n",
       "    <tr>\n",
       "      <th>8</th>\n",
       "      <td>True</td>\n",
       "      <td>NaN</td>\n",
       "      <td>NaN</td>\n",
       "    </tr>\n",
       "    <tr>\n",
       "      <th>9</th>\n",
       "      <td>False</td>\n",
       "      <td>NaN</td>\n",
       "      <td>NaN</td>\n",
       "    </tr>\n",
       "  </tbody>\n",
       "</table>\n",
       "</div>"
      ],
      "text/plain": [
       "       processed  data info\n",
       "index                      \n",
       "0           True  10.0    A\n",
       "1          False  20.0    B\n",
       "2           True  30.0    C\n",
       "3          False  40.0    D\n",
       "4           True  50.0    E\n",
       "5          False   NaN  NaN\n",
       "6           True   NaN  NaN\n",
       "7          False   NaN  NaN\n",
       "8           True   NaN  NaN\n",
       "9          False   NaN  NaN"
      ]
     },
     "metadata": {},
     "output_type": "display_data"
    },
    {
     "data": {
      "text/html": [
       "<div>\n",
       "<style scoped>\n",
       "    .dataframe tbody tr th:only-of-type {\n",
       "        vertical-align: middle;\n",
       "    }\n",
       "\n",
       "    .dataframe tbody tr th {\n",
       "        vertical-align: top;\n",
       "    }\n",
       "\n",
       "    .dataframe thead th {\n",
       "        text-align: right;\n",
       "    }\n",
       "</style>\n",
       "<table border=\"1\" class=\"dataframe\">\n",
       "  <thead>\n",
       "    <tr style=\"text-align: right;\">\n",
       "      <th></th>\n",
       "      <th>processed</th>\n",
       "      <th>data</th>\n",
       "      <th>info</th>\n",
       "    </tr>\n",
       "    <tr>\n",
       "      <th>index</th>\n",
       "      <th></th>\n",
       "      <th></th>\n",
       "      <th></th>\n",
       "    </tr>\n",
       "  </thead>\n",
       "  <tbody>\n",
       "    <tr>\n",
       "      <th>0</th>\n",
       "      <td>True</td>\n",
       "      <td>10.0</td>\n",
       "      <td>A</td>\n",
       "    </tr>\n",
       "    <tr>\n",
       "      <th>1</th>\n",
       "      <td>False</td>\n",
       "      <td>20.0</td>\n",
       "      <td>B</td>\n",
       "    </tr>\n",
       "    <tr>\n",
       "      <th>2</th>\n",
       "      <td>True</td>\n",
       "      <td>30.0</td>\n",
       "      <td>C</td>\n",
       "    </tr>\n",
       "    <tr>\n",
       "      <th>3</th>\n",
       "      <td>False</td>\n",
       "      <td>40.0</td>\n",
       "      <td>D</td>\n",
       "    </tr>\n",
       "    <tr>\n",
       "      <th>4</th>\n",
       "      <td>True</td>\n",
       "      <td>50.0</td>\n",
       "      <td>E</td>\n",
       "    </tr>\n",
       "    <tr>\n",
       "      <th>5</th>\n",
       "      <td>False</td>\n",
       "      <td>100.0</td>\n",
       "      <td>F</td>\n",
       "    </tr>\n",
       "    <tr>\n",
       "      <th>6</th>\n",
       "      <td>True</td>\n",
       "      <td>200.0</td>\n",
       "      <td>G</td>\n",
       "    </tr>\n",
       "    <tr>\n",
       "      <th>7</th>\n",
       "      <td>False</td>\n",
       "      <td>300.0</td>\n",
       "      <td>H</td>\n",
       "    </tr>\n",
       "    <tr>\n",
       "      <th>8</th>\n",
       "      <td>True</td>\n",
       "      <td>400.0</td>\n",
       "      <td>I</td>\n",
       "    </tr>\n",
       "    <tr>\n",
       "      <th>9</th>\n",
       "      <td>False</td>\n",
       "      <td>500.0</td>\n",
       "      <td>J</td>\n",
       "    </tr>\n",
       "  </tbody>\n",
       "</table>\n",
       "</div>"
      ],
      "text/plain": [
       "       processed   data info\n",
       "index                       \n",
       "0           True   10.0    A\n",
       "1          False   20.0    B\n",
       "2           True   30.0    C\n",
       "3          False   40.0    D\n",
       "4           True   50.0    E\n",
       "5          False  100.0    F\n",
       "6           True  200.0    G\n",
       "7          False  300.0    H\n",
       "8           True  400.0    I\n",
       "9          False  500.0    J"
      ]
     },
     "metadata": {},
     "output_type": "display_data"
    }
   ],
   "source": [
    "import pandas as pd\n",
    "\n",
    "\n",
    "\n",
    "def merge_dataframes(df1, df2, how='left'):\n",
    "    # Ensure that indices are aligned for merging\n",
    "    df1 = df1.copy()\n",
    "    df2 = df2.copy()\n",
    "\n",
    "    # Merge DataFrames\n",
    "    merged_df = df1.merge(df2, left_index=True, right_index=True, how=how, suffixes=('', '_dup'))\n",
    "\n",
    "    # Remove duplicate columns\n",
    "    cols = merged_df.columns\n",
    "    for col in cols:\n",
    "        if '_dup' in col:\n",
    "            original_col = col.replace('_dup', '')\n",
    "            if original_col in merged_df.columns:\n",
    "                # Handle duplication\n",
    "                merged_df[original_col] = merged_df[[original_col, col]].bfill(axis=1).iloc[:, 0]\n",
    "                merged_df.drop(columns=[col], inplace=True)\n",
    "\n",
    "    return merged_df\n",
    "\n",
    "\n",
    "# Create df1 with 10 rows and a column 'processed'\n",
    "df1 = pd.DataFrame({\n",
    "    'processed': [True, False, True, False, True, False, True, False, True, False],\n",
    "    'index': range(10)\n",
    "}).set_index('index')\n",
    "\n",
    "\n",
    "# Create df2 with 5 rows\n",
    "df2 = pd.DataFrame({\n",
    "    'index': [0, 1, 2, 3, 4],\n",
    "    'data': [10, 20, 30, 40, 50],\n",
    "    'info': ['A', 'B', 'C', 'D', 'E']\n",
    "}).set_index('index')\n",
    "\n",
    "\n",
    "# Create df3 with 5 rows\n",
    "df3 = pd.DataFrame({\n",
    "    'index': [5, 6, 7, 8, 9],\n",
    "    'data': [100, 200, 300, 400, 500],\n",
    "    'info': ['F', 'G', 'H', 'I', 'J']\n",
    "}).set_index('index')\n",
    "\n",
    "display(df1)\n",
    "df1 = merge_dataframes(df1, df2)\n",
    "display(df1)\n",
    "df1 = merge_dataframes(df1, df3)\n",
    "display(df1)\n"
   ]
  },
  {
   "cell_type": "code",
   "execution_count": 12,
   "metadata": {},
   "outputs": [
    {
     "data": {
      "text/plain": [
       "1"
      ]
     },
     "execution_count": 12,
     "metadata": {},
     "output_type": "execute_result"
    }
   ],
   "source": [
    "len(np.where(info_df['processed']))"
   ]
  },
  {
   "cell_type": "code",
   "execution_count": 13,
   "metadata": {},
   "outputs": [
    {
     "data": {
      "text/plain": [
       "['',\n",
       " '!!32001-384%',\n",
       " '!!32001-887%',\n",
       " '!N33@@@@@@@@@@@@@@@@',\n",
       " '\"TM DHDL@A&       \"',\n",
       " '#####@@@@@@@@@@@@@@@',\n",
       " ') KSV7H 255',\n",
       " '*). 9)168-0180%',\n",
       " '**ALI1**',\n",
       " '*7904068-4@@@@@@@@@@']"
      ]
     },
     "execution_count": 13,
     "metadata": {},
     "output_type": "execute_result"
    }
   ],
   "source": [
    "item_list = list(ships.data_dic.keys())\n",
    "item_list[:10]"
   ]
  },
  {
   "cell_type": "code",
   "execution_count": 14,
   "metadata": {},
   "outputs": [
    {
     "name": "stdout",
     "output_type": "stream",
     "text": [
      "Error: Column 'num_mmsis' does not exist in the DataFrame. Existing columns: ['processed', 'name', 'len', 'min_time', 'max_time', 'total_time', 'min_time_diff[mins]', 'max_time_diff[mins]', 'mean_time_diff[mins]', 'min_longitude', 'max_longitude', 'min_latitude', 'max_latitude', 'span_longitude', 'span_latitude']\n"
     ]
    },
    {
     "ename": "IndexError",
     "evalue": "index 0 is out of bounds for axis 0 with size 0",
     "output_type": "error",
     "traceback": [
      "\u001b[1;31m---------------------------------------------------------------------------\u001b[0m",
      "\u001b[1;31mIndexError\u001b[0m                                Traceback (most recent call last)",
      "Cell \u001b[1;32mIn[14], line 10\u001b[0m\n\u001b[0;32m      5\u001b[0m info_df_filter \u001b[38;5;241m=\u001b[39m {\u001b[38;5;124m'\u001b[39m\u001b[38;5;124mlen\u001b[39m\u001b[38;5;124m'\u001b[39m: [\u001b[38;5;124m'\u001b[39m\u001b[38;5;124m>\u001b[39m\u001b[38;5;124m'\u001b[39m,\u001b[38;5;241m10\u001b[39m],\n\u001b[0;32m      6\u001b[0m                     \u001b[38;5;124mf\u001b[39m\u001b[38;5;124m'\u001b[39m\u001b[38;5;124mnum_\u001b[39m\u001b[38;5;132;01m{\u001b[39;00mcontrol_item_type\u001b[38;5;132;01m}\u001b[39;00m\u001b[38;5;124ms\u001b[39m\u001b[38;5;124m'\u001b[39m:[\u001b[38;5;124m'\u001b[39m\u001b[38;5;124m==\u001b[39m\u001b[38;5;124m'\u001b[39m,\u001b[38;5;241m1\u001b[39m]}\n\u001b[0;32m      8\u001b[0m info_df_filt \u001b[38;5;241m=\u001b[39m filter_df(info_df,info_df_filter)\n\u001b[1;32m---> 10\u001b[0m ship_names \u001b[38;5;241m=\u001b[39m info_df_filt\u001b[38;5;241m.\u001b[39mindex[\u001b[38;5;28mrange\u001b[39m(\u001b[38;5;241m1\u001b[39m)]\u001b[38;5;241m.\u001b[39mtolist()\n\u001b[0;32m     11\u001b[0m ylim_val \u001b[38;5;241m=\u001b[39m [\u001b[38;5;241m-\u001b[39minfo_df_filt[\u001b[38;5;124m'\u001b[39m\u001b[38;5;124mspan_longitude\u001b[39m\u001b[38;5;124m'\u001b[39m]\u001b[38;5;241m.\u001b[39mmax(),info_df_filt[\u001b[38;5;124m'\u001b[39m\u001b[38;5;124mspan_longitude\u001b[39m\u001b[38;5;124m'\u001b[39m]\u001b[38;5;241m.\u001b[39mmax()]\n\u001b[0;32m     12\u001b[0m ships\u001b[38;5;241m.\u001b[39mplot_ship_data(df,ship_names,columns\u001b[38;5;241m=\u001b[39m[\u001b[38;5;124m'\u001b[39m\u001b[38;5;124mlatitude\u001b[39m\u001b[38;5;124m'\u001b[39m, \u001b[38;5;124m'\u001b[39m\u001b[38;5;124mlongitude\u001b[39m\u001b[38;5;124m'\u001b[39m,\u001b[38;5;124m'\u001b[39m\u001b[38;5;124mtime_seconds\u001b[39m\u001b[38;5;124m'\u001b[39m],sort_columms\u001b[38;5;241m=\u001b[39m\u001b[38;5;124m'\u001b[39m\u001b[38;5;124mtime\u001b[39m\u001b[38;5;124m'\u001b[39m,pre_process\u001b[38;5;241m=\u001b[39m\u001b[38;5;124m'\u001b[39m\u001b[38;5;124mremove_bias\u001b[39m\u001b[38;5;124m'\u001b[39m)\n",
      "File \u001b[1;32mc:\\Users\\gilad\\anaconda3\\Lib\\site-packages\\pandas\\core\\indexes\\range.py:994\u001b[0m, in \u001b[0;36mRangeIndex.__getitem__\u001b[1;34m(self, key)\u001b[0m\n\u001b[0;32m    987\u001b[0m \u001b[38;5;28;01melif\u001b[39;00m is_scalar(key):\n\u001b[0;32m    988\u001b[0m     \u001b[38;5;28;01mraise\u001b[39;00m \u001b[38;5;167;01mIndexError\u001b[39;00m(\n\u001b[0;32m    989\u001b[0m         \u001b[38;5;124m\"\u001b[39m\u001b[38;5;124monly integers, slices (`:`), \u001b[39m\u001b[38;5;124m\"\u001b[39m\n\u001b[0;32m    990\u001b[0m         \u001b[38;5;124m\"\u001b[39m\u001b[38;5;124mellipsis (`...`), numpy.newaxis (`None`) \u001b[39m\u001b[38;5;124m\"\u001b[39m\n\u001b[0;32m    991\u001b[0m         \u001b[38;5;124m\"\u001b[39m\u001b[38;5;124mand integer or boolean \u001b[39m\u001b[38;5;124m\"\u001b[39m\n\u001b[0;32m    992\u001b[0m         \u001b[38;5;124m\"\u001b[39m\u001b[38;5;124marrays are valid indices\u001b[39m\u001b[38;5;124m\"\u001b[39m\n\u001b[0;32m    993\u001b[0m     )\n\u001b[1;32m--> 994\u001b[0m \u001b[38;5;28;01mreturn\u001b[39;00m \u001b[38;5;28msuper\u001b[39m()\u001b[38;5;241m.\u001b[39m\u001b[38;5;21m__getitem__\u001b[39m(key)\n",
      "File \u001b[1;32mc:\\Users\\gilad\\anaconda3\\Lib\\site-packages\\pandas\\core\\indexes\\base.py:5383\u001b[0m, in \u001b[0;36mIndex.__getitem__\u001b[1;34m(self, key)\u001b[0m\n\u001b[0;32m   5380\u001b[0m     \u001b[38;5;28;01melse\u001b[39;00m:\n\u001b[0;32m   5381\u001b[0m         key \u001b[38;5;241m=\u001b[39m np\u001b[38;5;241m.\u001b[39masarray(key, dtype\u001b[38;5;241m=\u001b[39m\u001b[38;5;28mbool\u001b[39m)\n\u001b[1;32m-> 5383\u001b[0m result \u001b[38;5;241m=\u001b[39m getitem(key)\n\u001b[0;32m   5384\u001b[0m \u001b[38;5;66;03m# Because we ruled out integer above, we always get an arraylike here\u001b[39;00m\n\u001b[0;32m   5385\u001b[0m \u001b[38;5;28;01mif\u001b[39;00m result\u001b[38;5;241m.\u001b[39mndim \u001b[38;5;241m>\u001b[39m \u001b[38;5;241m1\u001b[39m:\n",
      "\u001b[1;31mIndexError\u001b[0m: index 0 is out of bounds for axis 0 with size 0"
     ]
    }
   ],
   "source": [
    "item_type = 'name'\n",
    "control_item_type = 'mmsi'\n",
    "info_df = info_df.sort_values(by='span_longitude',ascending=False)\n",
    "\n",
    "info_df_filter = {'len': ['>',10],\n",
    "                    f'num_{control_item_type}s':['==',1]}\n",
    "\n",
    "info_df_filt = filter_df(info_df,info_df_filter)\n",
    "\n",
    "ship_names = info_df_filt.index[range(1)].tolist()\n",
    "ylim_val = [-info_df_filt['span_longitude'].max(),info_df_filt['span_longitude'].max()]\n",
    "ships.plot_ship_data(df,ship_names,columns=['latitude', 'longitude','time_seconds'],sort_columms='time',pre_process='remove_bias')\n",
    "\n"
   ]
  }
 ],
 "metadata": {
  "kernelspec": {
   "display_name": "Python 3",
   "language": "python",
   "name": "python3"
  },
  "language_info": {
   "codemirror_mode": {
    "name": "ipython",
    "version": 3
   },
   "file_extension": ".py",
   "mimetype": "text/x-python",
   "name": "python",
   "nbconvert_exporter": "python",
   "pygments_lexer": "ipython3",
   "version": "3.11.7"
  }
 },
 "nbformat": 4,
 "nbformat_minor": 2
}
